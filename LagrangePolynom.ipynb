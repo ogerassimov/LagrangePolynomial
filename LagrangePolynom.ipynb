{
 "cells": [
  {
   "cell_type": "code",
   "execution_count": 1,
   "id": "expected-perfume",
   "metadata": {},
   "outputs": [],
   "source": [
    "%matplotlib inline"
   ]
  },
  {
   "cell_type": "code",
   "execution_count": 2,
   "id": "decreased-particular",
   "metadata": {},
   "outputs": [],
   "source": [
    "import matplotlib.pyplot as plt\n",
    "import numpy as np\n",
    "import math"
   ]
  },
  {
   "cell_type": "markdown",
   "id": "creative-harvest",
   "metadata": {},
   "source": [
    "# Интерполационен Полином на Лагранж\n",
    "\n",
    "## Интерполация на функция с полином\n",
    "\n",
    "Нека имаме функция $y = f(x)$ която неможем да изразим аналитично, но за която можем да измерим или получим стойностите за колкото си поискаме различни стойности на аргумента $x$. Задачата ни е, като разполагаме със стойностите на функцията $f(x)$ за $n+1$ различни стойности на аргумента, да конструираме лесна за пресмятане функция $L(x)$, която да ползваме вместо неизвестната истинска функция $f(x)$. Една възможност за лесна за пресмятане функция е полином, при това полином от най-ниската възможна степен.\n",
    "\n",
    "#### Дефиниция\n",
    "Нека върху реалната права имаме поредица от $n+1$ точки $x_0 < x_1< \\cdots <x_n$, а $y_i = f(x_i)$ за всяко $0 \\le i \\le n$, **казваме** че, функцията $L(x)$ **интерполира** $f(x)$ за всяко $0 \\le i \\le n$ е изпълнено $L(x_i) = y_i = f(x_i)$. Като $x_0 < x_1< \\cdots <x_n$ се наричат **възли** на интерполирането а стойностите $y_i$ се наричат **стойности**.\n",
    "\n",
    "#### Интерполационна задача на Лагранж\n",
    "При зададени $n+1$ възли и стойности $(x_i,y_i)$, да се намери полином $P(x) = a_0 + a_1x + a_2x^2 + \\cdots + a_n x^n$, от степен не по-голяма от $n$, такъв че, $P(x_i)=y_i$. Тоест да интерполира функцията $f(x)$ във възлите $x_i$\n",
    "\n",
    "#### Интерполационнен Полином на Лагранж\n",
    "При зададени $x_i$ и $y_i$, съществува единствен полином, който е решение на интерполационната задача на Лагранж. Този единствен полином от $n$-та степен който интерполира $(x_i,y_i)$ е полиномът на Лагранж.\n",
    "\n",
    "#### Задачата има единствено решение\n",
    "Ако разпишем уравненията\n",
    "$$\n",
    "P(x_0) = a_0 + a_1x_0 + a_2x_0^2 + \\cdots +  a_1x_0^n = y_0 \\\\\n",
    "P(x_1) = a_0 + a_1x_1 + a_2x_1^2 + \\cdots +  a_1x_1^n = y_1 \\\\\n",
    "\\cdots \\\\\n",
    "P(x_1) = a_0 + a_1x_n + a_2x_n^2 + \\cdots +  a_1x_n^n = y_n \\\\\n",
    "$$\n",
    "Се вижда, че имаме линейна система уравнения със неизвестни $a_0, a_1, a_2, \\cdots a_n$, това е линейна система с матрица матрицата на Вандермонд, за чиято детерминанта се знае, че при $x_0 < x_1< \\cdots <x_n$ е винаги отлична от нула, следователно съществува единствено решение - единствен полином интерполиращ данните. \n",
    "$$\n",
    "    \\left(\\begin{array}{cc} 1 & x_0 & \\ldots & x^{n}_0\\\\\n",
    "                            1 & x_1 & \\ldots & x^{n}_1\\\\\n",
    "                            \\vdots & \\vdots & \\ddots & \\vdots\\\\\n",
    "                            1 & x_n & \\ldots & x^{n}_n\n",
    "                            \\end{array}\\right)\n",
    "                            \\left(\\begin{array}{cc} a_0\\\\\n",
    "                            a_1 \\\\\n",
    "                            \\vdots\\\\\n",
    "                            a_n \n",
    "                            \\end{array}\\right)=\n",
    "                            \\left(\\begin{array}{cc} y_0\\\\\n",
    "                            y_1 \\\\\n",
    "                            \\vdots\\\\\n",
    "                            y_n \n",
    "                            \\end{array}\\right)\n",
    "$$"
   ]
  },
  {
   "cell_type": "markdown",
   "id": "weighted-employer",
   "metadata": {},
   "source": [
    "### Построяване на Интерполационния Полином на Лагранж\n",
    "\n",
    "Търсим полиноми от n-та степен $l_k(x)$, такива че за стойностите $x_0 < x_1< \\cdots <x_n$ да е изпълнено\n",
    "$$\n",
    "    l_k(x_i) = \\left\\{\\begin{array}{cc} 0 & i \\neq k\\\\\n",
    "                            1 & i = k\\\\\n",
    "                            \\end{array}\\right\\} = \\delta_{ik}\n",
    "$$\n",
    "\n",
    "И наистина ако имаме такива полиноми, можем лесно да конструираме **полинома на Лагранж** като\n",
    "$$\n",
    "    L_n(f;x) = \\sum_{k=0}^n f(x_k)l_k(x) =  \\sum_{k=0}^n y_kl_k(x)\n",
    "$$\n",
    "\n",
    "Очевидно, за него е изпълнено интерполационното свойство $L_n(f;x_i) = y_i = f(x_i)$ , и от твърдението следва, че това е единственият полином от степен n-та който интерполира възлите и стойностите.\n",
    "\n",
    "Конструирането на $l_k(x_i)$, които играят и ролята на базис, не е сложно:\n",
    "\n",
    "$$\n",
    "l_k(x)=c(x−x_0)(x−x_1)\\cdots(x−x_{k−1})(x−x_{k+1})\\cdots(x−x_n) = c\\prod_{j=0, j \\neq k}^n\\,(x−x_{j})\n",
    "$$\n",
    "\n",
    "Ясно е че за всяка стойност на аргумента $x_j \\neq x_k$, което е така при $j \\neq k$, то полинома ще се нулира, $l_k(x_j) = 0$, тъй като множителя $(x−x_{j})$ при $x = x_j$ дава нула. Ненулева стойност ще даде само при $x = x_k$, тъй като няма множител $(x−x_{k})$. \n",
    "\n",
    "Константата $c$ я подбираме, така че $l_k(x_k)=1$, ясно е че  \n",
    "$$\n",
    "c = \\frac{1}{l_k(x_k)}=\\frac{1}{(x_k−x_0)(x_k−x_1)\\cdots(x_k−x_{k−1})(x_k−x_{k+1})\\cdots(x_k−x_n)} = \\frac{1}{\\prod_{j=0, j\\neq k}^n\\,(x_k-x_j)}\n",
    "$$\n",
    "\n",
    "Така получаваме за полинома $l_k(x)$, за който $l_k(x_i) = \\delta_{ik}$\n",
    "$$\n",
    "    l_k(x) = \\prod_{j=0, j \\neq k}^n\\,\\frac{(x−x_j)}{(x_k−x_j)}\n",
    "$$\n",
    "\n",
    "От където можем да изразим полинома на Лагранж\n",
    "\n",
    "### Полином на Лагранж\n",
    "$$\n",
    "    L_n(f;x) =  \\sum_{k=0}^n y_k\\prod_{j=0, j \\neq k}^n\\,\\frac{(x−x_j)}{(x_k−x_j)}\n",
    "$$\n",
    "\n"
   ]
  },
  {
   "cell_type": "markdown",
   "id": "monetary-spain",
   "metadata": {},
   "source": [
    "Какво можем да очакваме при интерполация на гладка функция $f(x)$ с интерполационния полином на Лагранж, при увеичаване на броя възли на интерполация, отговора се дава от следното твърдение\n",
    "\n",
    "### Теорема за оценка на грешката при интерполиране с полинома на Лагранж\n",
    "\n",
    "Нека $a \\leq x_0 < x1 < \\cdots < x_n \\leq b$ и $f \\in C^{n+1}[a,b]$ - $f$ има $n+1$ производни в интервала $(a,b)$. Тогава за всяко $x \\in [a,b]$ съществува $\\xi \\in (a, b)$, такова че е изпълнено равенството\n",
    "$$\n",
    "        f(x) - L_n(f;x) = \\frac{f^{(n+1)}(\\xi)}{(n+1)!}(x−x_0)(x−x_1)\\cdots(x−x_n)\n",
    "$$\n",
    "\n",
    "#### Доказателство\n",
    "\n",
    "Очевидно формулата е вярна при $x=x_j$, тъй като тогава и двете страни на равенството са нули, затова ще го докажем за някое фиксирано $x \\in [a, b]$ ,такова че $x \\neq x_j$ за всяко $0 \\le j \\le n$.\n",
    "\n",
    "Идеята на доказателството е да използваме **теоремата на Рол**. За $g$ непрекъсната в $[a,b]$ и диференцируема в $(a,b)$ функция, теоремата твърди, че ако $g(a) = g(b)$ тогава съществува $\\xi \\in (a,b)$ такова че, $g'(\\xi)=0$ - производната на $g$ се нулира. Теоремата на Рол може да бъде интерпренирана и така, ако $g(a) = g(b) = 0$ тогава $g$ има 2 различни корена, а $g'(\\xi)=0$ явно се гарантира че и производната $g'$ има поне един корен. Това обобщено за $n+1$ корена на $g(x)=0$, звучи така ако уравнението $g(x)=0$ има $n+1$ различни корена, тогава и уравнението за производната $g'(x)=0$ има $n$ различни корена, съответно ако съществува $n$ та производна $g^{(n)}$, то уравнението $g^{(n)} = 0$ ще има един корен $\\xi$ $g^{(n)} = 0$. Ето това като подход трябва да го адаптираме за $f(x) - L_n(f;x)$, като ще трябва и стойността $x$ да влезе при нулите на израза.\n",
    "\n",
    "\n",
    "**Конструираме си функцията** за някакъв произволен параметър $c$, който ще определим в последствие\n",
    "\n",
    "$$\n",
    "    F(t) = f(t) - L_n(f;t) - c(t−x_0)(t−x_1)\\cdots(t−x_n)\n",
    "$$\n",
    "\n",
    "Очевидно тя е $n+1$ пъти диференцируема в $(a,b)$ и непрекъсната в $[a, b]$.\n",
    "\n",
    "За произволна стойност на параметъра $c$ функцията F(t) се анулира за $x_0 < x_1 < x_2 < \\cdots x_n$\n",
    "\n",
    "$$\n",
    "    F(x_j) = f(x_j) - L_n(f;x_j) - c(x_j−x_0)(x_j−x_1)\\cdots(x_j−x_j)\\cdots(x_j−x_n) = f(x_j) - L_n(f;x_j) -c\\cdot 0 = y_i-y_i = 0\n",
    "$$\n",
    "\n",
    "Сега ще определим параметъра $c$, така че да се нулира $F(t) = 0$ и за $t = x$.\n",
    "\n",
    "$$\n",
    "    0 = f(x) - L_n(f;x) - c(x−x_0)(x−x_1)\\cdots(x−x_n)\n",
    "$$\n",
    "\n",
    "За $c$ получаваме\n",
    "$$\n",
    "    c = \\frac{f(x) - L_n(f;x)}{(x−x_0)(x−x_1)\\cdots(x−x_n)} \n",
    "$$\n",
    "\n",
    "При така определеният параметър, $F(t) = 0$ има $n+2$ различни корена $x,x_0,x_1,..,x_n$ в интервала $[a,b]$.\n",
    "Да приложим теоремата на Рол, както бе показано, при което получаваме, че $n+1$ вата производна на $F(t)$ има корен $\\xi \\in [a,b]$q, и за него знаем че\n",
    "\n",
    "$$\n",
    "    0 = F^{(n+1)}(\\xi) = f^{(n+1)}(\\xi) - (L_n(f;\\xi))^{(n+1)} - (c(t−x_0)(t−x_1)\\cdots(t−x_j)\\cdots(t−x_n))^{(n+1)}(t=\\xi) = f^{(n+1)}(\\xi) - 0 - c(n+1)! \n",
    "$$\n",
    "\n",
    "Определяме равенство за константата $c$\n",
    "\n",
    "$$\n",
    "    c = \\frac{f^{(n+1)}(\\xi)}{(n+1)!}\n",
    "$$\n",
    "\n",
    "Като приравним двата израза за константата $c$\n",
    "$$\n",
    "    \\frac{f(x) - L_n(f;x)}{(x−x_0)(x−x_1)\\cdots(x−x_n)}  = \\frac{f^{(n+1)}(\\xi)}{(n+1)!}\n",
    "$$\n",
    "\n",
    "Получаваме търсената формула\n",
    "$$\n",
    "    f(x) - L_n(f;x) = \\frac{f^{(n+1)}(\\xi)}{(n+1)!}(x−x_0)(x−x_1)\\cdots(x−x_n)\n",
    "$$\n",
    "\n",
    "#### Абсолютна грешка при интерполация с полином на Лагранж\n",
    "$$\n",
    "    |f(x) - L_n(f;x)| = \\frac{|f^{(n+1)}(\\xi)|}{(n+1)!}|(x−x_0)(x−x_1)\\cdots(x−x_n)| \\leq \\frac{M_{n+1}}{(n+1)!}|(x−x_0)(x−x_1)\\cdots(x−x_n)|\n",
    "$$\n",
    "където \n",
    "$$\n",
    "    M_{n+1} = max_{x \\in(a,b)}|f^{(n+1)}(x)|\n",
    "$$\n",
    "\n",
    "Забележка M_{n+1} може да не съществува тъй като интервала е отворен, и $(n+1)$ производна може да не е равномерно непрекъсната.\n",
    "\n",
    "\n",
    "#### Приложимост на Метода\n",
    "\n",
    "1. Когато точките $x_0<x_1<x_2<\\cdots<x_n$ са гъсто разположени една до друга, тогава $|(x−x_0)(x−x_1)\\cdots(x−x_n)|$ ще клони към нула и точността при вземане на все повече точки ще става все по-добра.\n",
    "\n",
    "2. Ако $x$ е извън интервала $x_0<x_1<\\cdots<x_n$ тогава грешката бързо ще започне да расте, тъй като този член е като $O((x-x_0)^n)$ \n",
    "\n",
    "3. Полиномите от по-висока степен все по-силно скача около функцията тоест производните не се приближават добре.\n",
    "\n",
    "\n",
    "\n"
   ]
  },
  {
   "cell_type": "markdown",
   "id": "congressional-surgeon",
   "metadata": {},
   "source": [
    "### Барицентрична форма\n",
    "\n",
    "Чрез барицентричната лесно се формира полинома на Лагранж за време $O(n^2)$, и лесно за време $O(n)$ се пресмята.\n",
    "\n",
    "Ще въведем за удобство и следните означения\n",
    "$$\n",
    "    l(x) = (x−x_0)(x−x_1)\\cdots(x−x_n) = \\prod_{j=0}^n\\,(x−x_{j})\n",
    "$$\n",
    "\n",
    "Коефициентите се наричат барицентрични тегла\n",
    "$$\n",
    "    \\omega_k = \\frac{1}{\\prod_{j=0, j \\neq k}^n\\,(x_k-x_j)}\n",
    "$$\n",
    "\n",
    "Тогава полиномите $l_k(x)$ могат да се изразят като\n",
    "$$\n",
    "    l_k(x) = l(x)\\frac{\\omega_k}{x-x_k}\n",
    "$$\n",
    "\n",
    "Ползата от тези означения ще се види при програмата за съставяне и пресмятане на полинома на Лагранж.\n",
    "\n",
    "Така полинома добива вида наричан ***първа барицентрична форма***\n",
    "$$\n",
    "        L_n(f;x) = l(x) \\sum_{k=0}^n y_k\\frac{\\omega_k}{x-x_k}\n",
    "$$\n",
    "\n",
    "Барицентричните тегла се конструират за $O(n)$ всяко, а са общо $n$, общо всички барицентрични тегла се пресмятат за $O(n^2)$. Ако не ни интересуват коефициентите на самият полином а ни е нужно да пресмятаме $L_n(f;x)$ пресмятаме го по горната формула за време $O(n)$. \n",
    "\n",
    "Така или иначе на нас ни е нужен метод за пресмятане, но дори да са ни нужни коефициентите на полинома оттук можем да ги намерим за време  $O(n^2)$, докато демонстрационната програма формирайки базисните полиноми работи за време $O(n^3)$.\n",
    "\n",
    "Недостатък на първата барицентрична форма е необходимостта да се пресмята $l(x)$.\n",
    "\n",
    "#### Втора барицентрична форма\n",
    "\n",
    "Недостатъкът да бъде пресмятан полинома $l(x)$ може да бъде преодолян по следният начин\n",
    "\n",
    "За всяко $x$\n",
    "$$\n",
    "    L_n(1,x) = l(x) \\sum_{k=0}^n \\frac{\\omega_k}{x-x_k} = 1\n",
    "$$\n",
    "\n",
    "Тъй като е интерполационния полином на Лагранж интерполиращ константната функция $g(x) = 1$ в $n+1$ на брой точки $\\{(x_0,1), (x_1,1), (x_2,1) .... (x_n,1)\\}$, и тъй като полинома $g(x) = 1$ константата 1 също е интерполиращ за тези точки, а знаем че интерполиращият полином е единствен, тогава $L_n(1,x) = 1$\n",
    "\n",
    "Разделяме на единица, която е полинома $g(x) = 1$, първата барицентрична форма, което ни позволява да елиминираме $l(x)$ \n",
    "\n",
    "$$\n",
    "    L_n(f,x) = \\frac{l(x) \\sum_{k=0}^n y_k\\frac{\\omega_k}{x-x_k}}{g(x)} = \\frac{l(x) \\sum_{k=0}^n y_k\\frac{\\omega_k}{x-x_k}}{l(x) \\sum_{k=0}^n \\frac{\\omega_k}{x-x_k}} = \\frac{\\sum_{k=0}^n y_k\\frac{\\omega_k}{x-x_k}}{\\sum_{k=0}^n \\frac{\\omega_k}{x-x_k}}\n",
    "$$\n",
    "\n",
    "Така получаваме формулата, която се нарича ***Втора барицентрична форма***\n",
    "\n",
    "$$\n",
    "    L_n(f,x) = \\frac{\\sum_{k=0}^n y_k\\frac{\\omega_k}{x-x_k}}{\\sum_{k=0}^n \\frac{\\omega_k}{x-x_k}}\n",
    "$$\n",
    "\n",
    "За която, формирането на барицентричните тегла се изпълнява за време $O(n^2)$, а пресмятането и е линейно $O(n)$.\n",
    "\n",
    "#### Полза от втората барицентрична форма\n",
    "\n",
    "***Втората форма има преимущество в изчислителната сложност и точността на резултата:***\n",
    "\n",
    "Избягва се пресмятането на $l(x)$. Пресмятането на $\\frac{w_k}{x-x_k}$ се преизползва и за тук $y_i\\frac{w_k}{x-x_k}$, като цената е само пресмятането на сумата в знаменателя с още $n-1$ събирания. Стойността $(x-x_k)$ при много близка до $x_k$ стойност за $x$ може да е проблем но тъй като такъв множител участва както в числителя така и в знаменателя то неговият ефект се канселира, което води до относително корректен краен резултат."
   ]
  },
  {
   "cell_type": "markdown",
   "id": "local-appearance",
   "metadata": {},
   "source": [
    "\n",
    "## Демонстрация на полином на Лагранж."
   ]
  },
  {
   "cell_type": "markdown",
   "id": "negative-fancy",
   "metadata": {},
   "source": [
    "$$\n",
    "    l_k(x) = \\prod_{j=0, j \\neq k}^n\\,\\frac{(x−x_j)}{(x_k−x_j)}\n",
    "$$\n"
   ]
  },
  {
   "cell_type": "code",
   "execution_count": 3,
   "id": "distant-terminology",
   "metadata": {},
   "outputs": [],
   "source": [
    "def multiply_polynom_by_number(p, c):\n",
    "    \"\"\" Умножение на полином с число \"\"\"\n",
    "    polynom = []\n",
    "    for aj in p:\n",
    "        polynom.append(aj*c)\n",
    "    return polynom"
   ]
  },
  {
   "cell_type": "code",
   "execution_count": 4,
   "id": "coordinated-budapest",
   "metadata": {},
   "outputs": [],
   "source": [
    "assert([4, 8, 12] == multiply_polynom_by_number([1,2,3],4))"
   ]
  },
  {
   "cell_type": "code",
   "execution_count": 5,
   "id": "chemical-values",
   "metadata": {},
   "outputs": [],
   "source": [
    "def multiply_polynom_by_linear(p1, b, a):\n",
    "    \"\"\" Умножение на полином с линеен полином (ax+b) \"\"\"\n",
    "    polynom = multiply_polynom_by_number( p1, b )\n",
    "    polynom.append(0.0)\n",
    "    p = multiply_polynom_by_number( p1, a )\n",
    "    i = 1\n",
    "    for aj in p:\n",
    "        polynom[i] = polynom[i] + aj\n",
    "        i = i + 1;\n",
    "    return polynom"
   ]
  },
  {
   "cell_type": "code",
   "execution_count": 6,
   "id": "stone-consortium",
   "metadata": {},
   "outputs": [],
   "source": [
    "assert([3.0, 1.0] == multiply_polynom_by_linear([1],3.0,1.0))\n",
    "assert([-3.0, 2.0, 1.0] == multiply_polynom_by_linear([-1,1],3.0,1.0))\n",
    "assert([-9.0, 0.0, 7.0, 2.0] == multiply_polynom_by_linear([-3.0, 2.0, 1.0],3.0,2.0))"
   ]
  },
  {
   "cell_type": "code",
   "execution_count": 7,
   "id": "chronic-milan",
   "metadata": {},
   "outputs": [],
   "source": [
    "def sum_polynoms(p1, p2):\n",
    "    \"\"\" Събиране на полиноми \"\"\"\n",
    "    p = []\n",
    "    lenp1 = len(p1)\n",
    "    lenp2 = len(p2)\n",
    "    lenmin = min(lenp1, lenp2)\n",
    "    for i in range(0,lenmin):\n",
    "        p.append(p1[i]+p2[i])\n",
    "    for i in range(lenmin, lenp1):\n",
    "        p.append(p1[i])\n",
    "    for i in range(lenmin, lenp2):\n",
    "        p.append(p2[i])\n",
    "    return p"
   ]
  },
  {
   "cell_type": "code",
   "execution_count": 8,
   "id": "cardiac-shade",
   "metadata": {},
   "outputs": [],
   "source": [
    "assert( [4,6] == sum_polynoms([1,2],[3,4]))\n",
    "assert( [4,5] == sum_polynoms([1],[3,5]))\n",
    "assert( [4,5] == sum_polynoms([3,5],[1]))\n",
    "assert( [3,5] == sum_polynoms([3,5],[]))\n",
    "assert( [3,5] == sum_polynoms([],[3,5]))"
   ]
  },
  {
   "cell_type": "code",
   "execution_count": 9,
   "id": "approved-border",
   "metadata": {},
   "outputs": [],
   "source": [
    "## Базисните полиноми l_k(x)\n",
    "def basis_polynom_l_k(x_nodes, k):\n",
    "    n = len(x_nodes)\n",
    "    if ( n <= 1 ):\n",
    "        return []\n",
    "    \n",
    "    polynom = [1]\n",
    "    for j in range(0,n):\n",
    "        if ( j != k ):\n",
    "            a = 1/(x_nodes[k]-x_nodes[j])\n",
    "            b = -x_nodes[j]*a\n",
    "            polynom = multiply_polynom_by_linear(polynom,b,a)\n",
    "    return polynom\n"
   ]
  },
  {
   "cell_type": "code",
   "execution_count": 10,
   "id": "every-little",
   "metadata": {},
   "outputs": [],
   "source": [
    "## Полином на Лагранж\n",
    "def polynom_lagrange(x_nodes, y_data):\n",
    "    \"\"\" Създава Полином на Лагранж \"\"\"\n",
    "    n = len(x_nodes)\n",
    "    if ( len(y_data) != n):\n",
    "        return []\n",
    "    polynomL = []\n",
    "    for k in range(0,n):\n",
    "        '''Създава базисния полином. Умножава базисния полином с y данните и го събира с дотук получилия се полином'''\n",
    "        polynomL = sum_polynoms( polynomL, multiply_polynom_by_number( basis_polynom_l_k(x_nodes, k), y_data[k] ) )\n",
    "    return polynomL"
   ]
  },
  {
   "cell_type": "code",
   "execution_count": 11,
   "id": "bibliographic-bacteria",
   "metadata": {},
   "outputs": [],
   "source": [
    "## Пресмята полином от даден аргумент\n",
    "def polynom_calc(p, x):\n",
    "    \"\"\"Пресмята полином от даден аргумент\"\"\"\n",
    "    result = 0.0\n",
    "    n = len(p)\n",
    "    if n > 0:\n",
    "        result = p[n-1]\n",
    "        for j in reversed(range(n-1)) :\n",
    "            result = result*x + p[j] \n",
    "    return result"
   ]
  },
  {
   "cell_type": "code",
   "execution_count": 12,
   "id": "expected-following",
   "metadata": {},
   "outputs": [],
   "source": [
    "assert( 17 == polynom_calc([1,2,3],2) )\n",
    "assert( 0 == polynom_calc([-9.0, 0.0, 7.0, 2.0], -1.5) )"
   ]
  },
  {
   "cell_type": "markdown",
   "id": "interstate-recipe",
   "metadata": {},
   "source": [
    "### Пример\n",
    "\n",
    "За точките $ x_0 = 1, x_1 = 2, x_2 = 3 $\n",
    "Стойностите на функцията $y_0 = f(x_0) = 1, y_1 = f(x_1) = 4, y_2 = f(x_2) = 9$\n",
    "\n",
    "Базисните полиноми\n",
    "$$\n",
    "l_1(x) = \\frac{(x-2)}{(1-2)} \\frac{(x-3)}{(1-3)}  = \\frac{(x-2)(x-3)}{2} = \\frac{1}{2}x^2 - \\frac{5}{2}x + 3\n",
    "$$\n",
    "$$\n",
    "l_2(x) = \\frac{(x-1)}{(2-1)} \\frac{(x-3)}{(2-3)}  = \\frac{(x-1)(x-3)}{-1} = -x^2 +4x - 3\n",
    "$$\n",
    "$$\n",
    "l_3(x) = \\frac{(x-1)}{(3-1)} \\frac{(x-2)}{(3-2)}  = \\frac{(x-1)(x-2)}{2} = \\frac{1}{2}x^2 - \\frac{3}{2}x + 1\n",
    "$$\n",
    "\n",
    "Полинома на Лагранж\n",
    "$$\n",
    "L_2(x) = 1\\frac{(x-2)}{(1-2)} \\frac{(x-3)}{(1-3)} + 4\\frac{(x-1)}{(2-1)} \\frac{(x-3)}{(2-3)} + 9\\frac{(x-1)}{(3-1)} \\frac{(x-2)}{(3-2)} = \\\\\n",
    "= \\frac{1}{2}x^2 - \\frac{5}{2}x + 3 + 4\\left(-x^2 +4x - 3\\right) + 9\\left(\\frac{1}{2}x^2 - \\frac{3}{2}x + 1\\right) = \\\\ \n",
    "= \\left(\\frac{1}{2}-\\frac{8}{2}+\\frac{9}{2}\\right)x^2  + \\left(-\\frac{5}{2}+16-\\frac{27}{2}\\right)x+\\left(3-12+9\\right) = 1x^2+0x+0 = x^2\n",
    "$$"
   ]
  },
  {
   "cell_type": "code",
   "execution_count": 13,
   "id": "horizontal-russia",
   "metadata": {},
   "outputs": [],
   "source": [
    "#Visualization\n",
    "def print_polynom(p) :\n",
    "    txt = \"\"\n",
    "    xpower = 0\n",
    "    for a in p:\n",
    "        if (a >= 0):\n",
    "            txt = \" + \" + str(a) + \"x^\" + str(xpower) + txt\n",
    "        else:\n",
    "            txt = \" - \" + str(abs(a)) + \"x^\" + str(xpower) + txt\n",
    "        xpower = xpower+1\n",
    "    return txt;"
   ]
  },
  {
   "cell_type": "code",
   "execution_count": 14,
   "id": "hybrid-speaking",
   "metadata": {},
   "outputs": [
    {
     "data": {
      "text/plain": [
       "' + 1x^2 - 5x^1 + 6x^0'"
      ]
     },
     "execution_count": 14,
     "metadata": {},
     "output_type": "execute_result"
    }
   ],
   "source": [
    "p = [6,-5,1]\n",
    "print_polynom(p)"
   ]
  },
  {
   "cell_type": "code",
   "execution_count": 15,
   "id": "confirmed-customer",
   "metadata": {},
   "outputs": [
    {
     "data": {
      "text/plain": [
       "' + 0.5x^2 - 2.5x^1 + 3.0x^0'"
      ]
     },
     "execution_count": 15,
     "metadata": {},
     "output_type": "execute_result"
    }
   ],
   "source": [
    "x = [1.0, 2.0, 3.0]\n",
    "assert([3.0, -2.5, 0.5] == basis_polynom_l_k(x,0))\n",
    "print_polynom(basis_polynom_l_k(x,0))"
   ]
  },
  {
   "cell_type": "code",
   "execution_count": 16,
   "id": "nominated-recommendation",
   "metadata": {},
   "outputs": [
    {
     "data": {
      "text/plain": [
       "' - 1.0x^2 + 4.0x^1 - 3.0x^0'"
      ]
     },
     "execution_count": 16,
     "metadata": {},
     "output_type": "execute_result"
    }
   ],
   "source": [
    "assert( [-3.0, 4.0, -1.0] == basis_polynom_l_k(x,1) )\n",
    "print_polynom(basis_polynom_l_k(x,1))"
   ]
  },
  {
   "cell_type": "code",
   "execution_count": 17,
   "id": "whole-headset",
   "metadata": {},
   "outputs": [
    {
     "data": {
      "text/plain": [
       "' + 0.5x^2 - 1.5x^1 + 1.0x^0'"
      ]
     },
     "execution_count": 17,
     "metadata": {},
     "output_type": "execute_result"
    }
   ],
   "source": [
    "assert( [1.0, -1.5, 0.5] == basis_polynom_l_k(x,2) )\n",
    "print_polynom(basis_polynom_l_k(x,2))"
   ]
  },
  {
   "cell_type": "code",
   "execution_count": 18,
   "id": "organic-differential",
   "metadata": {},
   "outputs": [],
   "source": [
    "x = [1.0, 2.0, 3.0]\n",
    "assert([3.0, -2.5, 0.5] == basis_polynom_l_k(x,0))\n",
    "\n",
    "assert( 1 == polynom_calc(basis_polynom_l_k(x,0),1) )\n",
    "assert( 0 == polynom_calc(basis_polynom_l_k(x,0),2) )\n",
    "assert( 0 == polynom_calc(basis_polynom_l_k(x,0),3) )\n",
    "\n",
    "assert( 0 == polynom_calc(basis_polynom_l_k(x,1),1) )\n",
    "assert( 1 == polynom_calc(basis_polynom_l_k(x,1),2) )\n",
    "assert( 0 == polynom_calc(basis_polynom_l_k(x,1),3) )\n",
    "\n",
    "assert( 0 == polynom_calc(basis_polynom_l_k(x,2),1) )\n",
    "assert( 0 == polynom_calc(basis_polynom_l_k(x,2),2) )\n",
    "assert( 1 == polynom_calc(basis_polynom_l_k(x,2),3) )"
   ]
  },
  {
   "cell_type": "code",
   "execution_count": 19,
   "id": "demonstrated-miller",
   "metadata": {},
   "outputs": [
    {
     "data": {
      "text/plain": [
       "' + 1.0x^2 + 0.0x^1 + 0.0x^0'"
      ]
     },
     "execution_count": 19,
     "metadata": {},
     "output_type": "execute_result"
    }
   ],
   "source": [
    "x=[1.0,2.0,3.0]\n",
    "y=[1.0,4.0,9.0]\n",
    "assert( [0.0, 0.0, 1.0] == polynom_lagrange(x,y) )\n",
    "print_polynom(polynom_lagrange(x,y))"
   ]
  },
  {
   "cell_type": "code",
   "execution_count": 20,
   "id": "eligible-mountain",
   "metadata": {},
   "outputs": [
    {
     "data": {
      "text/plain": [
       "9.0"
      ]
     },
     "execution_count": 20,
     "metadata": {},
     "output_type": "execute_result"
    }
   ],
   "source": [
    "polynom_calc([0.0, 0.0, 1.0],3)"
   ]
  },
  {
   "cell_type": "markdown",
   "id": "incorporated-breach",
   "metadata": {},
   "source": [
    "### Примера от Лекции\n",
    "\n",
    "Възли $ x_0 = 1.6, x_1 = 1.8, x_2 = 2.0 $ Стойности $ y_0 = 2.145, y_1 = 2.191, y_2 = 2.236 $\n",
    "\n",
    "Които са приблизителни стойности на функцията\n",
    "$\n",
    "f(x) = \\sqrt{x+3}\n",
    "$\n"
   ]
  },
  {
   "cell_type": "code",
   "execution_count": 21,
   "id": "awful-continuity",
   "metadata": {},
   "outputs": [],
   "source": [
    "x = [1.6, 1.8, 2.0]\n",
    "y = [2.145, 2.191, 2.236]\n",
    "\n",
    "assert( abs(1 - polynom_calc(basis_polynom_l_k(x,0),1.6)) < 0.0000000000007 )\n",
    "assert( abs(polynom_calc(basis_polynom_l_k(x,0),1.8)) < 0.0000000000007 )\n",
    "assert( abs(polynom_calc(basis_polynom_l_k(x,0),2.0)) < 0.0000000000007 )\n",
    "\n",
    "assert( abs(polynom_calc(basis_polynom_l_k(x,1),1.6)) < 0.0000000000007 )\n",
    "assert( abs(1 - polynom_calc(basis_polynom_l_k(x,1),1.8)) < 0.0000000000007 )\n",
    "assert( abs(polynom_calc(basis_polynom_l_k(x,1),2.0)) < 0.0000000000007 )\n",
    "\n",
    "assert( abs(polynom_calc(basis_polynom_l_k(x,2),1.6)) < 0.0000000000007 )\n",
    "assert( abs(polynom_calc(basis_polynom_l_k(x,2),1.8)) < 0.0000000000007 )\n",
    "assert( abs(1 - polynom_calc(basis_polynom_l_k(x,2),2.0)) < 0.0000000000007 )"
   ]
  },
  {
   "cell_type": "code",
   "execution_count": 22,
   "id": "medical-citizen",
   "metadata": {},
   "outputs": [
    {
     "data": {
      "text/plain": [
       "' + 12.500000000000005x^2 - 47.500000000000014x^1 + 45.000000000000014x^0'"
      ]
     },
     "execution_count": 22,
     "metadata": {},
     "output_type": "execute_result"
    }
   ],
   "source": [
    "print_polynom(basis_polynom_l_k(x,0))"
   ]
  },
  {
   "cell_type": "code",
   "execution_count": 23,
   "id": "superior-contamination",
   "metadata": {},
   "outputs": [
    {
     "data": {
      "text/plain": [
       "' - 25.00000000000001x^2 + 90.00000000000003x^1 - 80.00000000000003x^0'"
      ]
     },
     "execution_count": 23,
     "metadata": {},
     "output_type": "execute_result"
    }
   ],
   "source": [
    "print_polynom(basis_polynom_l_k(x,1))"
   ]
  },
  {
   "cell_type": "code",
   "execution_count": 24,
   "id": "configured-plate",
   "metadata": {},
   "outputs": [
    {
     "data": {
      "text/plain": [
       "' + 12.500000000000005x^2 - 42.500000000000014x^1 + 36.000000000000014x^0'"
      ]
     },
     "execution_count": 24,
     "metadata": {},
     "output_type": "execute_result"
    }
   ],
   "source": [
    "print_polynom(basis_polynom_l_k(x,2))"
   ]
  },
  {
   "cell_type": "code",
   "execution_count": 25,
   "id": "paperback-financing",
   "metadata": {},
   "outputs": [
    {
     "data": {
      "text/plain": [
       "' + 26.81250000000001x^2 - 101.88750000000003x^1 + 96.52500000000003x^0'"
      ]
     },
     "execution_count": 25,
     "metadata": {},
     "output_type": "execute_result"
    }
   ],
   "source": [
    "print_polynom(multiply_polynom_by_number( basis_polynom_l_k(x,0), y[0] ))"
   ]
  },
  {
   "cell_type": "code",
   "execution_count": 26,
   "id": "linear-arnold",
   "metadata": {},
   "outputs": [
    {
     "data": {
      "text/plain": [
       "' - 54.77500000000002x^2 + 197.19000000000005x^1 - 175.28000000000006x^0'"
      ]
     },
     "execution_count": 26,
     "metadata": {},
     "output_type": "execute_result"
    }
   ],
   "source": [
    "print_polynom(multiply_polynom_by_number( basis_polynom_l_k(x,1), y[1] ))"
   ]
  },
  {
   "cell_type": "code",
   "execution_count": 27,
   "id": "organizational-saskatchewan",
   "metadata": {},
   "outputs": [
    {
     "data": {
      "text/plain": [
       "' + 27.950000000000014x^2 - 95.03000000000004x^1 + 80.49600000000004x^0'"
      ]
     },
     "execution_count": 27,
     "metadata": {},
     "output_type": "execute_result"
    }
   ],
   "source": [
    "print_polynom(multiply_polynom_by_number( basis_polynom_l_k(x,2), y[2] ))"
   ]
  },
  {
   "cell_type": "code",
   "execution_count": 28,
   "id": "vocal-bolivia",
   "metadata": {},
   "outputs": [
    {
     "data": {
      "text/plain": [
       "[1.7410000000000139, 0.27249999999997954, -0.012499999999995737]"
      ]
     },
     "execution_count": 28,
     "metadata": {},
     "output_type": "execute_result"
    }
   ],
   "source": [
    "pl_eta = sum_polynoms(sum_polynoms(multiply_polynom_by_number(basis_polynom_l_k(x,0), y[0]), multiply_polynom_by_number(basis_polynom_l_k(x,1), y[1])), multiply_polynom_by_number(basis_polynom_l_k(x,2), y[2]))\n",
    "pl_eta"
   ]
  },
  {
   "cell_type": "code",
   "execution_count": 29,
   "id": "leading-model",
   "metadata": {},
   "outputs": [
    {
     "data": {
      "text/plain": [
       "[1.7410000000000139, 0.27249999999997954, -0.012499999999995737]"
      ]
     },
     "execution_count": 29,
     "metadata": {},
     "output_type": "execute_result"
    }
   ],
   "source": [
    "pl = polynom_lagrange([1.6,1.8,2.0], [2.145, 2.191, 2.236])\n",
    "pl"
   ]
  },
  {
   "cell_type": "code",
   "execution_count": 30,
   "id": "amber-potato",
   "metadata": {},
   "outputs": [],
   "source": [
    "assert(pl == pl_eta)\n",
    "assert([1.7410000000000139, 0.27249999999997954, -0.012499999999995737] == pl)"
   ]
  },
  {
   "cell_type": "code",
   "execution_count": 31,
   "id": "human-viewer",
   "metadata": {},
   "outputs": [
    {
     "data": {
      "text/plain": [
       "2.144999999999992"
      ]
     },
     "execution_count": 31,
     "metadata": {},
     "output_type": "execute_result"
    }
   ],
   "source": [
    "xpr = x[0]\n",
    "polynom_calc(pl, xpr)"
   ]
  },
  {
   "cell_type": "code",
   "execution_count": 32,
   "id": "dominican-landscape",
   "metadata": {},
   "outputs": [
    {
     "data": {
      "text/plain": [
       "2.190999999999991"
      ]
     },
     "execution_count": 32,
     "metadata": {},
     "output_type": "execute_result"
    }
   ],
   "source": [
    "xpr = x[1]\n",
    "polynom_calc(pl, xpr)"
   ]
  },
  {
   "cell_type": "code",
   "execution_count": 33,
   "id": "innocent-thompson",
   "metadata": {},
   "outputs": [
    {
     "data": {
      "text/plain": [
       "2.23599999999999"
      ]
     },
     "execution_count": 33,
     "metadata": {},
     "output_type": "execute_result"
    }
   ],
   "source": [
    "xpr = x[2]\n",
    "polynom_calc(pl, xpr)"
   ]
  },
  {
   "cell_type": "code",
   "execution_count": 34,
   "id": "psychological-behavior",
   "metadata": {},
   "outputs": [
    {
     "data": {
      "text/plain": [
       "2.156593749999992"
      ]
     },
     "execution_count": 34,
     "metadata": {},
     "output_type": "execute_result"
    }
   ],
   "source": [
    "xpr = 1.65\n",
    "polynom_calc(pl, xpr)"
   ]
  },
  {
   "cell_type": "markdown",
   "id": "acting-gravity",
   "metadata": {},
   "source": [
    "Полинома на Лагранж за примера от лекции"
   ]
  },
  {
   "cell_type": "code",
   "execution_count": 35,
   "id": "japanese-knight",
   "metadata": {},
   "outputs": [
    {
     "data": {
      "text/plain": [
       "' - 0.012499999999995737x^2 + 0.27249999999997954x^1 + 1.7410000000000139x^0'"
      ]
     },
     "execution_count": 35,
     "metadata": {},
     "output_type": "execute_result"
    }
   ],
   "source": [
    "print_polynom(pl)"
   ]
  },
  {
   "cell_type": "code",
   "execution_count": 36,
   "id": "announced-neutral",
   "metadata": {},
   "outputs": [
    {
     "data": {
      "text/plain": [
       "[2.538999999999305,\n",
       " -2.4785833333285154,\n",
       " 3.705208333330347,\n",
       " -2.4687499999984084,\n",
       " 0.8072916666657193,\n",
       " -0.10416666666656482]"
      ]
     },
     "execution_count": 36,
     "metadata": {},
     "output_type": "execute_result"
    }
   ],
   "source": [
    "x = [1.0, 1.2, 1.4, 1.6, 1.8, 2.0]\n",
    "y = [2, 2.049, 2.098, 2.145, 2.191, 2.236]\n",
    "pl2 = polynom_lagrange(x,y)\n",
    "pl2"
   ]
  },
  {
   "cell_type": "code",
   "execution_count": 37,
   "id": "victorian-southwest",
   "metadata": {},
   "outputs": [],
   "source": [
    "def plot_axis(equal_axis = False):\n",
    "    # render axis of coord system\n",
    "    ax = plt.gca()\n",
    "    ax.spines[\"bottom\"].set_position(\"zero\")\n",
    "    ax.spines[\"left\"].set_position(\"zero\")\n",
    "    ax.spines[\"top\"].set_visible(False)\n",
    "    ax.spines[\"right\"].set_visible(False)\n",
    "\n",
    "    # scale of the axis must be equal\n",
    "    if equal_axis:\n",
    "        ax.axis('equal')\n",
    "    pass\n",
    "\n",
    "def plot_math_functions(functions, min_x, max_x, num_points):\n",
    "    \n",
    "    # calc function in many points\n",
    "    x = np.linspace(min_x, max_x, num_points)\n",
    "    vectorized_fs = [np.vectorize(f) for f in functions]\n",
    "    for f in vectorized_fs:\n",
    "        y = f(x)\n",
    "        plt.plot(x, y)\n",
    "    \n",
    "    plt.show()\n",
    "    pass"
   ]
  },
  {
   "cell_type": "markdown",
   "id": "bottom-parks",
   "metadata": {},
   "source": [
    "Апроксимацията на $\\sqrt{x+3}$ с парабола в три възела\n",
    "\n",
    "$x_0 = 1.6, x_1 = 1.8, x_2 = 2.0$ \n",
    "\n",
    "с приблизителните стойности \n",
    "\n",
    "$y_0 = 2.145, y_1 = 2.191, y_2 = 2.236$"
   ]
  },
  {
   "cell_type": "code",
   "execution_count": 38,
   "id": "female-detection",
   "metadata": {},
   "outputs": [
    {
     "name": "stdout",
     "output_type": "stream",
     "text": [
      "\n",
      "Lagrange polynom : L2(x) = \n",
      "\n",
      " - 0.012499999999995737x^2 + 0.27249999999997954x^1 + 1.7410000000000139x^0\n"
     ]
    }
   ],
   "source": [
    "pl = polynom_lagrange([1.6,1.8,2.0], [2.145, 2.191, 2.236])\n",
    "print(f\"\\nLagrange polynom : L{2}(x) = \\n\")\n",
    "print(print_polynom(pl))"
   ]
  },
  {
   "cell_type": "code",
   "execution_count": 39,
   "id": "periodic-devil",
   "metadata": {},
   "outputs": [
    {
     "data": {
      "image/png": "[encoded data removed]",
      "text/plain": [
       "<Figure size 432x288 with 1 Axes>"
      ]
     },
     "metadata": {
      "needs_background": "light"
     },
     "output_type": "display_data"
    }
   ],
   "source": [
    "plot_axis(True)\n",
    "plot_math_functions([lambda x: math.sqrt(x+3), lambda x: polynom_calc(pl,x)], -3, 6, 1000)"
   ]
  },
  {
   "cell_type": "code",
   "execution_count": 40,
   "id": "arctic-general",
   "metadata": {},
   "outputs": [
    {
     "data": {
      "image/png": "[encoded data removed]",
      "text/plain": [
       "<Figure size 432x288 with 1 Axes>"
      ]
     },
     "metadata": {
      "needs_background": "light"
     },
     "output_type": "display_data"
    }
   ],
   "source": [
    "plot_axis(True)\n",
    "plot_math_functions([lambda x: math.sqrt(x+3) if (x>= -3) else 0.0, lambda x: polynom_calc(pl,x)], -50, 50, 1000)"
   ]
  },
  {
   "cell_type": "markdown",
   "id": "negative-greene",
   "metadata": {},
   "source": [
    "Апроксимацията на $\\sqrt{x+3}$ с парабола в 6 възела, с полином от 5та степен\n",
    "\n",
    "$x = [1.0, 1.2, 1.4, 1.6, 1.8, 2.0]$ \n",
    "\n",
    "със съответните приблизителни стойности \n",
    "\n",
    "$y = [2, 2.049, 2.098, 2.145, 2.191, 2.236]$"
   ]
  },
  {
   "cell_type": "code",
   "execution_count": 41,
   "id": "amino-trout",
   "metadata": {},
   "outputs": [
    {
     "name": "stdout",
     "output_type": "stream",
     "text": [
      "\n",
      "Lagrange polynom : L5(x) = \n",
      "\n",
      " - 0.10416666666656482x^5 + 0.8072916666657193x^4 - 2.4687499999984084x^3 + 3.705208333330347x^2 - 2.4785833333285154x^1 + 2.538999999999305x^0\n"
     ]
    }
   ],
   "source": [
    "x = [1.0, 1.2, 1.4, 1.6, 1.8, 2.0]\n",
    "y = [2, 2.049, 2.098, 2.145, 2.191, 2.236]\n",
    "pl2 = polynom_lagrange(x,y)\n",
    "print(f\"\\nLagrange polynom : L{len(x)-1}(x) = \\n\")\n",
    "print(print_polynom(pl2))"
   ]
  },
  {
   "cell_type": "code",
   "execution_count": 42,
   "id": "under-mustang",
   "metadata": {},
   "outputs": [
    {
     "data": {
      "image/png": "[encoded data removed]",
      "text/plain": [
       "<Figure size 432x288 with 1 Axes>"
      ]
     },
     "metadata": {
      "needs_background": "light"
     },
     "output_type": "display_data"
    }
   ],
   "source": [
    "plot_axis(True)\n",
    "plot_math_functions([lambda x: math.sqrt(x+3), lambda x: polynom_calc(pl2,x)], -0.25, 3.25, 1000)"
   ]
  },
  {
   "cell_type": "code",
   "execution_count": 43,
   "id": "retired-secretariat",
   "metadata": {},
   "outputs": [
    {
     "data": {
      "image/png": "[encoded data removed]",
      "text/plain": [
       "<Figure size 432x288 with 1 Axes>"
      ]
     },
     "metadata": {
      "needs_background": "light"
     },
     "output_type": "display_data"
    }
   ],
   "source": [
    "plot_axis(True)\n",
    "plot_math_functions([lambda x: math.sqrt(x+3) if (x>= -3) else 0.0, lambda x: polynom_calc(pl2,x)], -0.20, 3.20, 1000)"
   ]
  },
  {
   "cell_type": "code",
   "execution_count": 44,
   "id": "terminal-doctor",
   "metadata": {},
   "outputs": [],
   "source": [
    "def prepare_f_data(f, numofpoints, min_x, max_x):\n",
    "    x = []\n",
    "    y = []\n",
    "    dx = (max_x-min_x)/(numofpoints-1)\n",
    "    for i in range(0,numofpoints):\n",
    "        t = dx*i+min_x\n",
    "        x.append(t)\n",
    "        y.append(f(t))\n",
    "    return [x,y]"
   ]
  },
  {
   "cell_type": "markdown",
   "id": "compressed-complaint",
   "metadata": {},
   "source": [
    "##### Апроксимираме Функцията\n",
    "$$\n",
    "f(x) = \\frac{1}{1 + x^2}\n",
    "$$"
   ]
  },
  {
   "cell_type": "code",
   "execution_count": 45,
   "id": "large-reset",
   "metadata": {},
   "outputs": [
    {
     "data": {
      "image/png": "[encoded data removed]",
      "text/plain": [
       "<Figure size 432x288 with 1 Axes>"
      ]
     },
     "metadata": {
      "needs_background": "light"
     },
     "output_type": "display_data"
    }
   ],
   "source": [
    "f = lambda x : 1/(1 + x*x)\n",
    "\n",
    "min_x = -1.5\n",
    "max_x = +1.5\n",
    "\n",
    "plot_axis(True)\n",
    "plot_math_functions([f], min_x - 0.25, max_x + 0.25, 1000)"
   ]
  },
  {
   "cell_type": "code",
   "execution_count": 46,
   "id": "iraqi-photography",
   "metadata": {},
   "outputs": [
    {
     "name": "stdout",
     "output_type": "stream",
     "text": [
      "\n",
      "Lagrange polynom : L20(x) = \n",
      "\n",
      " + 0.004122346076244321x^20 + 2.570408295932136e-12x^19 - 0.039832168976675866x^18 + 9.58262635908369e-12x^17 + 0.16806614277770382x^16 + 1.0095410757360312e-09x^15 - 0.4166503213441781x^14 + 4.619307075737211e-09x^13 + 0.7007257197579613x^12 + 2.9660745387571907e-09x^11 - 0.8971244322393307x^10 - 4.852810514544004e-10x^9 + 0.978341679946148x^8 - 2.6362524836731627e-10x^7 - 0.9975210357864801x^6 - 3.897507316885651e-13x^5 + 0.9998738638167601x^4 + 3.0496181209656303e-14x^3 - 0.9999981949230864x^2 - 1.0460791253537197e-15x^1 + 1.0x^0\n"
     ]
    },
    {
     "data": {
      "image/png": "[encoded data removed]",
      "text/plain": [
       "<Figure size 432x288 with 1 Axes>"
      ]
     },
     "metadata": {
      "needs_background": "light"
     },
     "output_type": "display_data"
    }
   ],
   "source": [
    "numofpoints = 21\n",
    "\n",
    "[x,y]=prepare_f_data(f, numofpoints, min_x, max_x)\n",
    "pl_f_invsq = polynom_lagrange(x,y)\n",
    "\n",
    "print(f\"\\nLagrange polynom : L{numofpoints-1}(x) = \\n\")\n",
    "print(print_polynom(pl_f_invsq))\n",
    "\n",
    "plot_axis(True)\n",
    "plot_math_functions([f, lambda x: polynom_calc(pl_f_invsq,x)], min_x-0.165, max_x + 0.165, 1000)"
   ]
  },
  {
   "cell_type": "markdown",
   "id": "valued-morning",
   "metadata": {},
   "source": [
    "##### Апроксимираме Функцията\n",
    "$$ f(x) = sin(x), \\,\\,\\, x \\in [-2\\pi, +2\\pi] $$"
   ]
  },
  {
   "cell_type": "code",
   "execution_count": 47,
   "id": "assigned-finger",
   "metadata": {},
   "outputs": [
    {
     "name": "stdout",
     "output_type": "stream",
     "text": [
      "\n",
      "Lagrange polynom : L16(x) = \n",
      "\n",
      " + 2.7265526334811978e-24x^16 - 4.795262185974785e-13x^15 - 1.0527479428884313e-20x^14 + 1.4745200540288905e-10x^13 - 5.670636740227961e-19x^12 - 2.4733504309523414e-08x^11 + 8.509106346620225e-18x^10 + 2.751487761375729e-06x^9 + 3.8090882216215126e-16x^8 - 0.00019838219231929757x^7 + 1.4723947467492497e-15x^6 + 0.008333223886848418x^5 + 1.8448365776672855e-15x^4 - 0.16666650240578873x^3 + 6.143433143098057e-16x^2 + 0.9999999337470163x^1 + 0.0x^0\n"
     ]
    },
    {
     "data": {
      "image/png": "[encoded data removed]",
      "text/plain": [
       "<Figure size 432x288 with 1 Axes>"
      ]
     },
     "metadata": {
      "needs_background": "light"
     },
     "output_type": "display_data"
    }
   ],
   "source": [
    "numofpoints = 17\n",
    "\n",
    "f2 = lambda x : math.sin(x)\n",
    "max_x = 2*math.pi\n",
    "min_x = -2*math.pi\n",
    "\n",
    "[x,y]=prepare_f_data(f2, numofpoints, min_x, max_x)\n",
    "pl_f2 = polynom_lagrange(x,y)\n",
    "\n",
    "print(f\"\\nLagrange polynom : L{numofpoints-1}(x) = \\n\")\n",
    "print(print_polynom(pl_f2))\n",
    "\n",
    "plot_axis(True)\n",
    "plot_math_functions([f2, lambda x: polynom_calc(pl_f2,x)], min_x-2, max_x+2, 1000)"
   ]
  },
  {
   "cell_type": "markdown",
   "id": "suffering-switch",
   "metadata": {},
   "source": [
    "#### Важността на отценката\n",
    "\n",
    "$$\n",
    "    |f(x) - L_n(f;x)| \\leq \\frac{M_{n+1}}{(n+1)!}|(x−x_0)(x−x_1)\\cdots(x−x_n)|\n",
    "$$\n",
    "където \n",
    "$$\n",
    "    M_{n+1} = max_{x \\in(a,b)}|f^{(n+1)}(x)|\n",
    "$$\n",
    "\n",
    "Следващия пример за функцията показва, че увеличаването на броя точки води до драстични разлики\n",
    "$$ f(x) = sin(x^2), \\,\\,\\, x \\in [-2\\pi, +2\\pi] $$"
   ]
  },
  {
   "cell_type": "code",
   "execution_count": 48,
   "id": "induced-corps",
   "metadata": {
    "scrolled": true
   },
   "outputs": [
    {
     "name": "stdout",
     "output_type": "stream",
     "text": [
      "\n",
      "Lagrange polynom : L11(x) = \n",
      "\n",
      " + 6.815968247436948e-22x^11 - 6.117175294565384e-06x^10 - 1.6686549060909717e-19x^9 + 0.0005068352790866348x^8 + 4.026794631246944e-18x^7 - 0.01359115321544889x^6 + 3.065581642702764e-17x^5 + 0.13246889163605194x^4 + 2.8067283740218496e-16x^3 - 0.35920386749474353x^2 + 1.4394816718818482e-16x^1 + 0.4240716719951256x^0\n"
     ]
    },
    {
     "data": {
      "image/png": "[encoded data removed]",
      "text/plain": [
       "<Figure size 432x288 with 1 Axes>"
      ]
     },
     "metadata": {
      "needs_background": "light"
     },
     "output_type": "display_data"
    }
   ],
   "source": [
    "numofpoints = 12\n",
    "\n",
    "f3 = lambda x : math.sin(x*x)\n",
    "max_x = math.pi*2\n",
    "min_x = -math.pi*2\n",
    "\n",
    "[x,y]=prepare_f_data(f3, numofpoints, min_x, max_x)\n",
    "pl_f3 = polynom_lagrange(x,y)\n",
    "\n",
    "print(f\"\\nLagrange polynom : L{numofpoints-1}(x) = \\n\")\n",
    "print(print_polynom(pl_f3))\n",
    "\n",
    "plot_axis(True)\n",
    "plot_math_functions([f3, lambda x: polynom_calc(pl_f3,x)], min_x-0.05, max_x+0.05, 1000)"
   ]
  },
  {
   "cell_type": "code",
   "execution_count": null,
   "id": "severe-brave",
   "metadata": {},
   "outputs": [],
   "source": [
    "\n",
    "        "
   ]
  },
  {
   "cell_type": "markdown",
   "id": "former-large",
   "metadata": {},
   "source": [
    "## Втората Барицентрична Форма - Реализация\n",
    "\n",
    "Тук ще реализираме втората барицентрична формула заради нейтата ефективност, както и добра коректност на резултата.\n",
    "\n",
    "Първо ще определим барицентричните тегла\n",
    "\n",
    "Коефициентите се наричат барицентрични тегла\n",
    "$$\n",
    "    \\omega_k = \\frac{1}{\\prod_{j=0, j \\neq k}^n\\,(x_k-x_j)}\n",
    "$$\n"
   ]
  },
  {
   "cell_type": "code",
   "execution_count": 49,
   "id": "conceptual-split",
   "metadata": {},
   "outputs": [],
   "source": [
    "## Барицентричниното тегло k-тото\n",
    "def lagrange2b_barycentric_weight_k(xnodes, k) :\n",
    "    '''k-тото барицентрично тегло'''\n",
    "    n = len(xnodes)\n",
    "    mprod = 1.0\n",
    "    xk = xnodes[k]\n",
    "    j = 0\n",
    "    while (j < n):\n",
    "        if ( j != k ):\n",
    "            mprod = mprod * (xk - xnodes[j])\n",
    "        j = j + 1\n",
    "    return 1/mprod"
   ]
  },
  {
   "cell_type": "markdown",
   "id": "welsh-saying",
   "metadata": {},
   "source": [
    "За $x_0 = 1.0, x_1 = 2.0, x_2 = 3.0$ барицентричните тегла са\n",
    "$$\n",
    "\\omega_0 = \\frac{1}{(x_0-x_1)(x_0-x_2)} = \\frac{1}{(1-2)(1-3)} = \\frac{1}{(-1)(-2)} = \\frac{1}{2}\n",
    "$$\n",
    "$$\n",
    "\\omega_1 = \\frac{1}{(x_1-x_0)(x_1-x_2)} = \\frac{1}{(2-1)(2-3)} = \\frac{1}{(+1)(-1)} = -1\n",
    "$$\n",
    "$$\n",
    "\\omega_2 = \\frac{1}{(x_2-x_0)(x_2-x_1)} = \\frac{1}{(3-1)(3-2)} = \\frac{1}{(+2)(+1)} = \\frac{1}{2}\n",
    "$$"
   ]
  },
  {
   "cell_type": "code",
   "execution_count": 50,
   "id": "proper-designation",
   "metadata": {},
   "outputs": [],
   "source": [
    "x = [1.0, 2.0, 3.0]\n",
    "assert( 0.5 == lagrange2b_barycentric_weight_k(x,0) )\n",
    "assert( -1.0 == lagrange2b_barycentric_weight_k(x,1) )\n",
    "assert( 0.5 == lagrange2b_barycentric_weight_k(x,2) )"
   ]
  },
  {
   "cell_type": "code",
   "execution_count": 51,
   "id": "handmade-tonight",
   "metadata": {},
   "outputs": [],
   "source": [
    "## Барицентричните тегла\n",
    "def lagrange2b_barycentric_weights(xnodes):\n",
    "    '''Барицентричните тегла'''\n",
    "    bc_weights=[]\n",
    "    n = len(xnodes)\n",
    "    k = 0\n",
    "    while (k < n):\n",
    "        bc_weights.append(lagrange2b_barycentric_weight_k(xnodes, k))\n",
    "        k = k + 1\n",
    "    return bc_weights"
   ]
  },
  {
   "cell_type": "code",
   "execution_count": 52,
   "id": "bored-climate",
   "metadata": {},
   "outputs": [],
   "source": [
    "x = [1.0, 2.0, 3.0]\n",
    "assert([0.5, -1.0, 0.5]==lagrange2b_barycentric_weights(x))"
   ]
  },
  {
   "cell_type": "markdown",
   "id": "declared-credit",
   "metadata": {},
   "source": [
    "$$\n",
    "    L_n(f,x) = \\frac{\\sum_{k=0}^n y_k\\frac{\\omega_k}{x-x_k}}{\\sum_{k=0}^n \\frac{\\omega_k}{x-x_k}}\n",
    "$$"
   ]
  },
  {
   "cell_type": "code",
   "execution_count": 53,
   "id": "collective-trunk",
   "metadata": {},
   "outputs": [],
   "source": [
    "## Пресмята полинома на Лагранж\n",
    "def lagrange2b_calc(barycentric_weights, xnodes, ydata, x) :\n",
    "    '''\n",
    "        Пресмята полинома на Лагранж за дадено х по вече пресметнатите\n",
    "        барицентрични тегла съответстващи на възлите xnodes.\n",
    "        TODO по-подходящо е да се направи обект който да пази \n",
    "        барицентричните тегла, xnodes, ydata, като членове.\n",
    "    '''\n",
    "    n = len(xnodes)\n",
    "    k = 0\n",
    "    numerator = 0.0\n",
    "    denominator = 0.0\n",
    "    while (k < n):\n",
    "        dxk = x-xnodes[k]\n",
    "        if (dxk == 0.0):\n",
    "            return ydata[k]\n",
    "        bx = barycentric_weights[k]/dxk\n",
    "        numerator = numerator + ydata[k]*bx\n",
    "        denominator = denominator + bx\n",
    "        k = k + 1\n",
    "    return numerator/denominator"
   ]
  },
  {
   "cell_type": "code",
   "execution_count": 54,
   "id": "intended-electronics",
   "metadata": {},
   "outputs": [
    {
     "data": {
      "text/plain": [
       "16.000000000000007"
      ]
     },
     "execution_count": 54,
     "metadata": {},
     "output_type": "execute_result"
    }
   ],
   "source": [
    "x=[1.0,2.0,3.0]\n",
    "y=[1.0,4.0,9.0]\n",
    "assert( [0.0, 0.0, 1.0] == polynom_lagrange(x,y) )\n",
    "assert( 16 == polynom_calc([0.0, 0.0, 1.0],4) )\n",
    "\n",
    "## barycentric weights\n",
    "bc_weights = lagrange2b_barycentric_weights(x)\n",
    "\n",
    "## calculate Lagrange\n",
    "yval = lagrange2b_calc(bc_weights, x, y, 4)\n",
    "assert( abs( yval - 16.0 ) < 0.00000000000007 )\n",
    "yval"
   ]
  },
  {
   "cell_type": "code",
   "execution_count": 55,
   "id": "thorough-correlation",
   "metadata": {},
   "outputs": [
    {
     "name": "stdout",
     "output_type": "stream",
     "text": [
      "[2.538999999999305, -2.4785833333285154, 3.705208333330347, -2.4687499999984084, 0.8072916666657193, -0.10416666666656482]\n",
      "2.1565458984375\n",
      "2.1565458984379977\n",
      "4.978240042419202e-13\n",
      "2.1217109375\n",
      "2.1217109375011622\n",
      "1.1621814621776139e-12\n"
     ]
    }
   ],
   "source": [
    "x_nodes = [1.0, 1.2, 1.4, 1.6, 1.8, 2.0]\n",
    "y_data =  [2, 2.049, 2.098, 2.145, 2.191, 2.236]\n",
    "print( polynom_lagrange(x_nodes, y_data) )\n",
    "\n",
    "xpr = 1.65\n",
    "y_expected = 2.1565458984379977\n",
    "assert( abs( y_expected - polynom_calc(polynom_lagrange(x_nodes, y_data), xpr)) < 0.00000000000007 )\n",
    "\n",
    "#barycentric formula\n",
    "\n",
    "## barycentric weights\n",
    "bc_weights = lagrange2b_barycentric_weights(x_nodes)\n",
    "\n",
    "## calculate Lagrange\n",
    "yval = lagrange2b_calc(bc_weights, x_nodes, y_data, xpr)\n",
    "print(yval)\n",
    "print(y_expected)\n",
    "print(abs(yval-y_expected))\n",
    "assert( abs(yval-y_expected) < 1e-12 )\n",
    "\n",
    "## Calculate Lagrange in nodes\n",
    "yval0 = lagrange2b_calc(bc_weights, x_nodes, y_data, 1)\n",
    "assert(yval0 == 2.0)\n",
    "yval1 = lagrange2b_calc(bc_weights, x_nodes, y_data, 1.4)\n",
    "assert(yval1 == 2.098)\n",
    "\n",
    "## calculate Lagrange\n",
    "xpr = 1.5\n",
    "y_expected = polynom_calc(polynom_lagrange(x_nodes, y_data), xpr)\n",
    "yval = lagrange2b_calc(bc_weights, x_nodes, y_data, xpr)\n",
    "print(yval)\n",
    "print(y_expected)\n",
    "print(abs(yval-y_expected))\n",
    "assert( abs(yval-y_expected) < 2e-12 )"
   ]
  },
  {
   "cell_type": "markdown",
   "id": "functional-harbor",
   "metadata": {},
   "source": [
    "#### Визуални тестове с новата реализация"
   ]
  },
  {
   "cell_type": "code",
   "execution_count": 56,
   "id": "chubby-running",
   "metadata": {},
   "outputs": [
    {
     "data": {
      "image/png": "[encoded data removed]",
      "text/plain": [
       "<Figure size 432x288 with 1 Axes>"
      ]
     },
     "metadata": {
      "needs_background": "light"
     },
     "output_type": "display_data"
    }
   ],
   "source": [
    "plot_axis(True)\n",
    "plot_math_functions([lambda x: math.sqrt(x+3), lambda x: lagrange2b_calc(bc_weights, x_nodes, y_data, x)], -0.20, 3.20, 1000)"
   ]
  },
  {
   "cell_type": "code",
   "execution_count": 57,
   "id": "indonesian-footwear",
   "metadata": {},
   "outputs": [
    {
     "data": {
      "image/png": "[encoded data removed]",
      "text/plain": [
       "<Figure size 432x288 with 1 Axes>"
      ]
     },
     "metadata": {
      "needs_background": "light"
     },
     "output_type": "display_data"
    }
   ],
   "source": [
    "numofpoints = 21\n",
    "f = lambda x : 1/(1 + x*x)\n",
    "\n",
    "min_x = -1.5\n",
    "max_x = +1.5\n",
    "\n",
    "[x_nodes, y_data]=prepare_f_data(f, numofpoints, min_x, max_x)\n",
    "\n",
    "## barycentric weights\n",
    "bc_weights = lagrange2b_barycentric_weights(x_nodes)\n",
    "\n",
    "plot_axis(True)\n",
    "plot_math_functions([f, lambda x: lagrange2b_calc(bc_weights, x_nodes, y_data, x)], min_x-0.165, max_x + 0.165, 1000)"
   ]
  },
  {
   "cell_type": "markdown",
   "id": "desirable-practice",
   "metadata": {},
   "source": [
    "# Библиография\n",
    "1. https://en.wikipedia.org/wiki/Lagrange_polynomial\n",
    "2. http://fmi.wikidot.com/chm1\n",
    "3. PIF_InterpLagrange_6_2022.pdf"
   ]
  },
  {
   "cell_type": "code",
   "execution_count": null,
   "id": "removed-vinyl",
   "metadata": {},
   "outputs": [],
   "source": []
  }
 ],
 "metadata": {
  "kernelspec": {
   "display_name": "Python 3",
   "language": "python",
   "name": "python3"
  },
  "language_info": {
   "codemirror_mode": {
    "name": "ipython",
    "version": 3
   },
   "file_extension": ".py",
   "mimetype": "text/x-python",
   "name": "python",
   "nbconvert_exporter": "python",
   "pygments_lexer": "ipython3",
   "version": "3.7.9"
  }
 },
 "nbformat": 4,
 "nbformat_minor": 5
}
